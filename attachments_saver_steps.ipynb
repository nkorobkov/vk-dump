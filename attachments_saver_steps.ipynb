{
 "cells": [
  {
   "cell_type": "code",
   "execution_count": 1,
   "metadata": {},
   "outputs": [],
   "source": [
    "import glob\n",
    "import json\n",
    "import os\n",
    "from urllib.request import urlretrieve\n",
    "from multiprocessing import Pool\n",
    "from collections import defaultdict, namedtuple\n",
    "from pprint import pprint\n",
    "import tqdm"
   ]
  },
  {
   "cell_type": "code",
   "execution_count": 159,
   "metadata": {},
   "outputs": [],
   "source": [
    "SUPPORTED_TYPES = ['photo', 'audio']\n",
    "DUMP_DIR = 'dumps/nikkorobk/'\n",
    "DTask = namedtuple('DTask',['url', 'type', 'user_id', 'size'])\n",
    "# experimental coeficients\n",
    "AUDIO_SIZE_COEF = 28624\n",
    "IMG_SIZE_COEF = 0.22663429\n",
    "BYTE_IN_MB = 1000000"
   ]
  },
  {
   "cell_type": "code",
   "execution_count": 160,
   "metadata": {},
   "outputs": [],
   "source": [
    "def make_photo_task(photo_at):\n",
    "    ph = photo_at['photo']['sizes'][-1]\n",
    "    url = ph['url']\n",
    "    size = int(ph['width'] * ph['height'] * IMG_SIZE_COEF/ BYTE_IN_MB)\n",
    "    return(DTask(url, 'photo', None, size))\n",
    "\n",
    "def make_audio_task(audio_at):\n",
    "    url= audio_at['audio']['url'].split('?')[0]\n",
    "    size= int(audio_at['audio']['duration'] * AUDIO_SIZE_COEF/BYTE_IN_MB)\n",
    "    return(DTask(url, 'audio', None, size))\n"
   ]
  },
  {
   "cell_type": "code",
   "execution_count": 161,
   "metadata": {},
   "outputs": [],
   "source": [
    "\n",
    "def make_task(at):\n",
    "    att = at['type']\n",
    "\n",
    "    if att in SUPPORTED_TYPES:\n",
    "\n",
    "        if att == 'photo':\n",
    "            return make_photo_task(at)\n",
    "        if att == 'audio':\n",
    "            return make_audio_task(at)\n",
    "        return ''"
   ]
  },
  {
   "cell_type": "code",
   "execution_count": 162,
   "metadata": {},
   "outputs": [],
   "source": [
    "\n",
    "def get_download_tasks(dump_dir):\n",
    "    tasks = []\n",
    "    files_list=glob.glob(os.path.join(dump_dir, '*/*.json'))\n",
    "    for file in tqdm.tqdm_notebook(files_list):\n",
    "        user_urls = defaultdict(list)\n",
    "        user_id =(os.path.basename(os.path.dirname(file)))\n",
    "        conv = json.load(open(file))\n",
    "        for msg in conv['items']:\n",
    "            for at in msg['attachments']:\n",
    "                att = at['type']\n",
    "                task = make_task(at)\n",
    "                if task and task.url:\n",
    "                    task = task._replace(user_id=user_id) \n",
    "                    tasks.append(task)\n",
    "    return tasks\n"
   ]
  },
  {
   "cell_type": "code",
   "execution_count": 163,
   "metadata": {},
   "outputs": [
    {
     "data": {
      "application/vnd.jupyter.widget-view+json": {
       "model_id": "04603a12b57743e09ced521888a786cc",
       "version_major": 2,
       "version_minor": 0
      },
      "text/plain": [
       "HBox(children=(IntProgress(value=0, max=810), HTML(value='')))"
      ]
     },
     "metadata": {},
     "output_type": "display_data"
    }
   ],
   "source": [
    "tasks = get_download_tasks(DUMP_DIR)"
   ]
  },
  {
   "cell_type": "code",
   "execution_count": 164,
   "metadata": {},
   "outputs": [],
   "source": [
    "def process_task(task):\n",
    "    path_to_save =  os.path.join(DUMP_DIR, task.user_id, task.type)\n",
    "    filename = task.url.split('/')[-1]\n",
    "    full_name = os.path.join(path_to_save, filename)\n",
    "    if not os.path.exists(path_to_save):\n",
    "        os.makedirs(path_to_save)\n",
    "    if not os.path.exists(full_name):\n",
    "        urlretrieve(task.url, full_name)\n",
    "    return task.size"
   ]
  },
  {
   "cell_type": "code",
   "execution_count": 165,
   "metadata": {},
   "outputs": [],
   "source": [
    "def process_tasks(tasks):\n",
    "    sum_size = sum(map(lambda x: x.size, tasks))\n",
    "    with Pool(processes=8) as p:\n",
    "        with tqdm.tqdm_notebook(total = sum_size) as td:\n",
    "            for r in p.imap_unordered(process_task, tasks):\n",
    "                td.update(r)\n"
   ]
  },
  {
   "cell_type": "code",
   "execution_count": 167,
   "metadata": {},
   "outputs": [
    {
     "data": {
      "application/vnd.jupyter.widget-view+json": {
       "model_id": "78fe076d68b149dea5e9c5f551879b62",
       "version_major": 2,
       "version_minor": 0
      },
      "text/plain": [
       "HBox(children=(IntProgress(value=0, max=14331), HTML(value='')))"
      ]
     },
     "metadata": {},
     "output_type": "display_data"
    }
   ],
   "source": [
    "process_tasks(tasks)"
   ]
  },
  {
   "cell_type": "code",
   "execution_count": 151,
   "metadata": {},
   "outputs": [
    {
     "data": {
      "text/plain": [
       "'11477234'"
      ]
     },
     "execution_count": 151,
     "metadata": {},
     "output_type": "execute_result"
    }
   ],
   "source": [
    "file=glob.glob(os.path.join(DUMP_DIR, '*/*.json'))[0]\n",
    "(os.path.basename(os.path.dirname(file)))"
   ]
  },
  {
   "cell_type": "code",
   "execution_count": 84,
   "metadata": {},
   "outputs": [],
   "source": [
    "audio_tasks = list(filter(lambda x: x.type == 'audio', tasks))\n",
    "img_tasks = list(filter(lambda x: x.type == 'photo', tasks))"
   ]
  },
  {
   "cell_type": "code",
   "execution_count": 116,
   "metadata": {},
   "outputs": [
    {
     "data": {
      "text/plain": [
       "DTask(url='https://pp.userapi.com/c849124/v849124216/374d7/pc3RDNrrfcw.jpg', type='photo', user_id='messages', size=188469.075564)"
      ]
     },
     "execution_count": 116,
     "metadata": {},
     "output_type": "execute_result"
    }
   ],
   "source": [
    "tasks[0]"
   ]
  },
  {
   "cell_type": "code",
   "execution_count": 29,
   "metadata": {},
   "outputs": [
    {
     "data": {
      "text/plain": [
       "1129"
      ]
     },
     "execution_count": 29,
     "metadata": {},
     "output_type": "execute_result"
    }
   ],
   "source": [
    "len(list(audio_tasks))"
   ]
  },
  {
   "cell_type": "code",
   "execution_count": 30,
   "metadata": {},
   "outputs": [
    {
     "ename": "TypeError",
     "evalue": "tuple indices must be integers or slices, not str",
     "output_type": "error",
     "traceback": [
      "\u001b[0;31m---------------------------------------------------------------------------\u001b[0m",
      "\u001b[0;31mTypeError\u001b[0m                                 Traceback (most recent call last)",
      "\u001b[0;32m<ipython-input-30-25882a70ac36>\u001b[0m in \u001b[0;36m<module>\u001b[0;34m\u001b[0m\n\u001b[0;32m----> 1\u001b[0;31m \u001b[0maudio_urls\u001b[0m \u001b[0;34m=\u001b[0m \u001b[0mlist\u001b[0m\u001b[0;34m(\u001b[0m\u001b[0mmap\u001b[0m\u001b[0;34m(\u001b[0m\u001b[0mitemgetter\u001b[0m\u001b[0;34m(\u001b[0m\u001b[0;34m'url'\u001b[0m\u001b[0;34m)\u001b[0m\u001b[0;34m,\u001b[0m \u001b[0maudio_tasks\u001b[0m\u001b[0;34m)\u001b[0m\u001b[0;34m)\u001b[0m\u001b[0;34m\u001b[0m\u001b[0;34m\u001b[0m\u001b[0m\n\u001b[0m\u001b[1;32m      2\u001b[0m \u001b[0;34m\u001b[0m\u001b[0m\n\u001b[1;32m      3\u001b[0m \u001b[0mlen\u001b[0m\u001b[0;34m(\u001b[0m\u001b[0maudio_urls\u001b[0m\u001b[0;34m)\u001b[0m\u001b[0;34m,\u001b[0m \u001b[0mlen\u001b[0m\u001b[0;34m(\u001b[0m\u001b[0mset\u001b[0m\u001b[0;34m(\u001b[0m\u001b[0maudio_urls\u001b[0m\u001b[0;34m)\u001b[0m\u001b[0;34m)\u001b[0m\u001b[0;34m\u001b[0m\u001b[0;34m\u001b[0m\u001b[0m\n",
      "\u001b[0;31mTypeError\u001b[0m: tuple indices must be integers or slices, not str"
     ]
    }
   ],
   "source": [
    "audio_urls = list(map(itemgetter('url'), audio_tasks))\n",
    "\n",
    "len(audio_urls), len(set(audio_urls))\n"
   ]
  },
  {
   "cell_type": "code",
   "execution_count": 168,
   "metadata": {},
   "outputs": [
    {
     "data": {
      "text/plain": [
       "True"
      ]
     },
     "execution_count": 168,
     "metadata": {},
     "output_type": "execute_result"
    }
   ],
   "source": [
    "os.path.exists('dumps/nikkorobk/100/messages.json')"
   ]
  },
  {
   "cell_type": "code",
   "execution_count": 86,
   "metadata": {},
   "outputs": [
    {
     "data": {
      "application/vnd.jupyter.widget-view+json": {
       "model_id": "3e931554d7494e85913af7d8d52f8d85",
       "version_major": 2,
       "version_minor": 0
      },
      "text/plain": [
       "HBox(children=(IntProgress(value=0, max=500), HTML(value='')))"
      ]
     },
     "metadata": {},
     "output_type": "display_data"
    }
   ],
   "source": []
  },
  {
   "cell_type": "code",
   "execution_count": 56,
   "metadata": {},
   "outputs": [],
   "source": [
    "import requests\n",
    "from operator import itemgetter\n",
    "import numpy as np\n",
    "from matplotlib import pyplot as plt\n",
    "%matplotlib inline"
   ]
  },
  {
   "cell_type": "code",
   "execution_count": 94,
   "metadata": {},
   "outputs": [
    {
     "data": {
      "application/vnd.jupyter.widget-view+json": {
       "model_id": "f33b66da839448eaa2d4e557bc023ffd",
       "version_major": 2,
       "version_minor": 0
      },
      "text/plain": [
       "HBox(children=(IntProgress(value=0, max=500), HTML(value='')))"
      ]
     },
     "metadata": {},
     "output_type": "display_data"
    }
   ],
   "source": [
    "ds = []\n",
    "ls = []\n",
    "for t in tqdm.tqdm_notebook(img_tasks[:500]):\n",
    "    response = requests.head(t.url)\n",
    "    if response.status_code == 200:\n",
    "        l = response.headers['Content-Length']\n",
    "        ds.append(t.size)\n",
    "        ls.append(l)\n",
    "        \n",
    "        "
   ]
  },
  {
   "cell_type": "code",
   "execution_count": 96,
   "metadata": {},
   "outputs": [
    {
     "data": {
      "image/png": "[encoded data removed]",
      "text/plain": [
       "<Figure size 432x288 with 1 Axes>"
      ]
     },
     "metadata": {
      "needs_background": "light"
     },
     "output_type": "display_data"
    }
   ],
   "source": [
    "ls = map(int, ls)\n",
    "ds, ls = zip(*sorted(zip(ds, ls)))\n",
    "\n",
    "plt.plot(ds[:-10], ls[:-10])\n",
    "plt.show()"
   ]
  },
  {
   "cell_type": "code",
   "execution_count": 97,
   "metadata": {},
   "outputs": [
    {
     "data": {
      "text/plain": [
       "0.21663429565906178"
      ]
     },
     "execution_count": 97,
     "metadata": {},
     "output_type": "execute_result"
    }
   ],
   "source": [
    "ks = []\n",
    "for d, l in zip(ds[:-10], ls[:-10]):\n",
    "    ks.append(l/(d))\n",
    "    \n",
    "np.mean(ks)\n"
   ]
  },
  {
   "cell_type": "code",
   "execution_count": 91,
   "metadata": {},
   "outputs": [
    {
     "data": {
      "text/plain": [
       "117"
      ]
     },
     "execution_count": 91,
     "metadata": {},
     "output_type": "execute_result"
    }
   ],
   "source": [
    "len(ls)"
   ]
  },
  {
   "cell_type": "code",
   "execution_count": 22,
   "metadata": {},
   "outputs": [
    {
     "data": {
      "text/plain": [
       "(404,\n",
       " {'Server': 'Internet Information Services', 'Date': 'Wed, 26 Dec 2018 14:53:58 GMT', 'Content-Type': 'text/html', 'Content-Length': '408', 'Connection': 'keep-alive', 'ETag': '\"5b11df7f-198\"', 'X-Frontend': 'front220022', 'Access-Control-Expose-Headers': 'X-Frontend'})"
      ]
     },
     "execution_count": 22,
     "metadata": {},
     "output_type": "execute_result"
    }
   ],
   "source": [
    "response = requests.get(audio_tasks[0].url)\n",
    "l = response.headers\n",
    "response.status_code, l"
   ]
  },
  {
   "cell_type": "code",
   "execution_count": 19,
   "metadata": {},
   "outputs": [
    {
     "data": {
      "text/plain": [
       "'https://psv4.vkuseraudio.net/c5884/u3997453/audios/5112baa63114.mp3'"
      ]
     },
     "execution_count": 19,
     "metadata": {},
     "output_type": "execute_result"
    }
   ],
   "source": [
    "audio_tasks[0].url"
   ]
  }
 ],
 "metadata": {
  "kernelspec": {
   "display_name": "Python 3",
   "language": "python",
   "name": "python3"
  },
  "language_info": {
   "codemirror_mode": {
    "name": "ipython",
    "version": 3
   },
   "file_extension": ".py",
   "mimetype": "text/x-python",
   "name": "python",
   "nbconvert_exporter": "python",
   "pygments_lexer": "ipython3",
   "version": "3.7.1"
  }
 },
 "nbformat": 4,
 "nbformat_minor": 2
}
