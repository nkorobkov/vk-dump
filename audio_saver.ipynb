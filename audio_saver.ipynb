{
 "cells": [
  {
   "cell_type": "code",
   "execution_count": 19,
   "metadata": {},
   "outputs": [],
   "source": [
    "import os\n",
    "from urllib.request import urlretrieve\n",
    "from multiprocessing import Pool\n",
    "from collections import defaultdict, namedtuple\n",
    "from pprint import pprint\n",
    "import tqdm\n",
    "import vk\n",
    "import json\n",
    "from vk import api\n"
   ]
  },
  {
   "cell_type": "code",
   "execution_count": 10,
   "metadata": {},
   "outputs": [],
   "source": [
    "\n",
    "def get_password_and_id(cp):\n",
    "    creds = json.load(open(cp))\n",
    "    return creds['pass'], creds['id']\n",
    "\n",
    "password, id = get_password_and_id('creds.json')\n",
    "\n",
    "session = vk.AuthSession(app_id='6787646', user_login=id,\n",
    "                         scope='messages', user_password=password) \n",
    "vkapi = vk.API(session)"
   ]
  },
  {
   "cell_type": "code",
   "execution_count": 21,
   "metadata": {},
   "outputs": [
    {
     "ename": "AttributeError",
     "evalue": "module 'vk' has no attribute 'VkAudio'",
     "output_type": "error",
     "traceback": [
      "\u001b[0;31m---------------------------------------------------------------------------\u001b[0m",
      "\u001b[0;31mAttributeError\u001b[0m                            Traceback (most recent call last)",
      "\u001b[0;32m<ipython-input-21-942833754429>\u001b[0m in \u001b[0;36m<module>\u001b[0;34m\u001b[0m\n\u001b[0;32m----> 1\u001b[0;31m \u001b[0maudioapi\u001b[0m \u001b[0;34m=\u001b[0m \u001b[0mvk\u001b[0m\u001b[0;34m.\u001b[0m\u001b[0mVkAudio\u001b[0m\u001b[0;34m(\u001b[0m\u001b[0mvkapi\u001b[0m\u001b[0;34m)\u001b[0m\u001b[0;34m\u001b[0m\u001b[0;34m\u001b[0m\u001b[0m\n\u001b[0m\u001b[1;32m      2\u001b[0m \u001b[0maudioapi\u001b[0m\u001b[0;34m.\u001b[0m\u001b[0mget\u001b[0m\u001b[0;34m(\u001b[0m\u001b[0mowner_id\u001b[0m\u001b[0;34m=\u001b[0m\u001b[0;36m9468306\u001b[0m\u001b[0;34m)\u001b[0m\u001b[0;34m\u001b[0m\u001b[0;34m\u001b[0m\u001b[0m\n",
      "\u001b[0;31mAttributeError\u001b[0m: module 'vk' has no attribute 'VkAudio'"
     ]
    }
   ],
   "source": [
    "audioapi = vk.VkAudio(vkapi)\n",
    "audioapi.get(owner_id=9468306)"
   ]
  },
  {
   "cell_type": "code",
   "execution_count": 61,
   "metadata": {},
   "outputs": [],
   "source": [
    "path = 'dumps/nikkorobk/9468306/messages.json'"
   ]
  },
  {
   "cell_type": "code",
   "execution_count": 62,
   "metadata": {},
   "outputs": [],
   "source": [
    "f = json.load(open(path))\n",
    "\n",
    "# count says 6529"
   ]
  },
  {
   "cell_type": "code",
   "execution_count": 63,
   "metadata": {},
   "outputs": [],
   "source": [
    "f['items'] = f['items'][500:]\n",
    "f['count'] = f['count']-500"
   ]
  },
  {
   "cell_type": "code",
   "execution_count": 64,
   "metadata": {},
   "outputs": [],
   "source": [
    "json.dump(f, open(path,'w'), ensure_ascii=False )"
   ]
  },
  {
   "cell_type": "code",
   "execution_count": 65,
   "metadata": {},
   "outputs": [
    {
     "data": {
      "text/plain": [
       "(6029, 6029)"
      ]
     },
     "execution_count": 65,
     "metadata": {},
     "output_type": "execute_result"
    }
   ],
   "source": [
    "len(f['items']), f['count']\n"
   ]
  },
  {
   "cell_type": "code",
   "execution_count": 66,
   "metadata": {},
   "outputs": [
    {
     "data": {
      "text/plain": [
       "{'date': 1543332686,\n",
       " 'from_id': 9468306,\n",
       " 'id': 281828,\n",
       " 'out': 0,\n",
       " 'peer_id': 9468306,\n",
       " 'text': 'Мне не нравится, что она еле сказала мне правду вчера, скрывает, как от маленькой.',\n",
       " 'conversation_message_id': 5832,\n",
       " 'fwd_messages': [],\n",
       " 'important': False,\n",
       " 'random_id': 0,\n",
       " 'attachments': [],\n",
       " 'is_hidden': False}"
      ]
     },
     "execution_count": 66,
     "metadata": {},
     "output_type": "execute_result"
    }
   ],
   "source": [
    "\n",
    "f['items'][199]"
   ]
  },
  {
   "cell_type": "code",
   "execution_count": null,
   "metadata": {},
   "outputs": [],
   "source": []
  }
 ],
 "metadata": {
  "kernelspec": {
   "display_name": "Python 3",
   "language": "python",
   "name": "python3"
  },
  "language_info": {
   "codemirror_mode": {
    "name": "ipython",
    "version": 3
   },
   "file_extension": ".py",
   "mimetype": "text/x-python",
   "name": "python",
   "nbconvert_exporter": "python",
   "pygments_lexer": "ipython3",
   "version": "3.7.1"
  }
 },
 "nbformat": 4,
 "nbformat_minor": 2
}
