{
 "cells": [
  {
   "cell_type": "code",
   "execution_count": 1,
   "metadata": {},
   "outputs": [],
   "source": [
    "import os\n",
    "from urllib.request import urlretrieve\n",
    "from multiprocessing import Pool\n",
    "from collections import defaultdict, namedtuple\n",
    "from pprint import pprint\n",
    "import tqdm\n",
    "import vk_api\n",
    "from vk_api.audio import VkAudio\n",
    "import json\n",
    "import logging\n",
    "import sys\n",
    "from urllib.request import urlretrieve\n",
    "from DTask import DTask\n",
    "from DTasksProcessor import DTaskProcessor\n"
   ]
  },
  {
   "cell_type": "code",
   "execution_count": 2,
   "metadata": {},
   "outputs": [
    {
     "name": "stdout",
     "output_type": "stream",
     "text": [
      "2019-03-05 12:39:38,755 | INFO : Auth with login: 89036004477\n",
      "2019-03-05 12:39:38,759 | INFO : Checking remixsid...\n",
      "2019-03-05 12:39:39,707 | INFO : remixsid is valid\n",
      "2019-03-05 12:39:39,708 | INFO : Checking security check request\n",
      "2019-03-05 12:39:40,360 | INFO : Security check is not required\n",
      "2019-03-05 12:39:41,200 | INFO : access_token from config is valid\n"
     ]
    }
   ],
   "source": [
    "\n",
    "API_VERSION = '5.87'\n",
    "\n",
    "flags = {'creds_path':'creds.json', \n",
    "        'save_path':'dumps/audio'}\n",
    "\n",
    "\n",
    "logger =logging.getLogger(__name__)\n",
    "logging.basicConfig(format='%(asctime)s | %(levelname)s : %(message)s',\n",
    "                     level=logging.INFO, stream=sys.stdout)\n",
    "\n",
    "def get_password_and_id(cp):\n",
    "    creds = json.load(open(cp))\n",
    "    return creds['pass'], creds['id']\n",
    "\n",
    "password, id = get_password_and_id(flags['creds_path'])\n",
    "\n",
    "session = vk_api.VkApi(app_id='6787646', login=id,\n",
    "                         scope='audio', password=password, api_version=API_VERSION)\n",
    "session.auth()\n",
    "vkapi = session.get_api()\n",
    "audioapi = vk_api.audio.VkAudio(session)"
   ]
  },
  {
   "cell_type": "code",
   "execution_count": 12,
   "metadata": {},
   "outputs": [],
   "source": [
    "def dtask_from_audio(obj):\n",
    "    url = obj['url']\n",
    "    name = '{} {}.mp3'.format(obj.get('artist', ''), obj.get('title',''))\n",
    "    name = name.replace('/','')\n",
    "    size = obj.get('duration',100)\n",
    "    \n",
    "    \n",
    "    task = DTask(url, flags['save_path'],size = size, filename = name)\n",
    "    return task"
   ]
  },
  {
   "cell_type": "code",
   "execution_count": 13,
   "metadata": {},
   "outputs": [],
   "source": [
    "tasks = []\n",
    "for a in audioapi.get_iter(owner_id=-43695482):\n",
    "    tasks.append(dtask_from_audio(a))"
   ]
  },
  {
   "cell_type": "code",
   "execution_count": 15,
   "metadata": {},
   "outputs": [
    {
     "name": "stderr",
     "output_type": "stream",
     "text": [
      " 50%|█████     | 8/16 [00:12<00:09,  1.15s/it]\n"
     ]
    },
    {
     "data": {
      "text/plain": [
       "[]"
      ]
     },
     "execution_count": 15,
     "metadata": {},
     "output_type": "execute_result"
    }
   ],
   "source": [
    "tp = DTaskProcessor(tasks)\n",
    "tp.process_tasks()"
   ]
  },
  {
   "cell_type": "code",
   "execution_count": 14,
   "metadata": {},
   "outputs": [
    {
     "name": "stdout",
     "output_type": "stream",
     "text": [
      "True False dumps/audio/Шкловский Жрать культуру (Это не вам2017).mp3 None\n",
      "True False dumps/audio/Шкловский Бассейн (Это не вам2017).mp3 None\n",
      "True False dumps/audio/Шкловский Метрополитен (Это не вам2017).mp3 None\n",
      "True False dumps/audio/Шкловский Принцесса (Это не вам2017).mp3 None\n",
      "True False dumps/audio/Шкловский Брат (Это не вам2017).mp3 None\n",
      "True False dumps/audio/Шкловский Еду по Москве (Это не вам2017).mp3 None\n",
      "True False dumps/audio/Шкловский Местечкис (Это не вам2017).mp3 None\n",
      "True False dumps/audio/Шкловский Листовки (Это не вам2017).mp3 None\n",
      "False True dumps/audio/Шкловский Девяностые.mp3 None\n",
      "False True dumps/audio/Шкловский Могуч.mp3 None\n",
      "False True dumps/audio/Шкловский Племянница.mp3 None\n",
      "False True dumps/audio/Шкловский Люся.mp3 None\n",
      "False True dumps/audio/Шкловский 13 лет.mp3 None\n",
      "False True dumps/audio/Шкловский Великан.mp3 None\n",
      "False True dumps/audio/Шкловский ОГПУ.mp3 None\n",
      "False True dumps/audio/Шкловский Кот.mp3 None\n"
     ]
    }
   ],
   "source": [
    "for t in tasks:\n",
    "    print(t.should_be_executed, os.path.exists(t.full_name), t.full_name, t.error)"
   ]
  },
  {
   "cell_type": "code",
   "execution_count": 8,
   "metadata": {},
   "outputs": [
    {
     "ename": "FileNotFoundError",
     "evalue": "[Errno 2] No such file or directory: 'dumps/audio/Шкловский Жрать культуру (Это не вам/2017).mp3'",
     "output_type": "error",
     "traceback": [
      "\u001b[0;31m---------------------------------------------------------------------------\u001b[0m",
      "\u001b[0;31mFileNotFoundError\u001b[0m                         Traceback (most recent call last)",
      "\u001b[0;32m<ipython-input-8-af1ca95e5293>\u001b[0m in \u001b[0;36m<module>\u001b[0;34m\u001b[0m\n\u001b[0;32m----> 1\u001b[0;31m \u001b[0murlretrieve\u001b[0m\u001b[0;34m(\u001b[0m\u001b[0mtasks\u001b[0m\u001b[0;34m[\u001b[0m\u001b[0;36m0\u001b[0m\u001b[0;34m]\u001b[0m\u001b[0;34m.\u001b[0m\u001b[0murl\u001b[0m\u001b[0;34m,\u001b[0m \u001b[0mtasks\u001b[0m\u001b[0;34m[\u001b[0m\u001b[0;36m0\u001b[0m\u001b[0;34m]\u001b[0m\u001b[0;34m.\u001b[0m\u001b[0mfull_name\u001b[0m\u001b[0;34m)\u001b[0m\u001b[0;34m\u001b[0m\u001b[0;34m\u001b[0m\u001b[0m\n\u001b[0m",
      "\u001b[0;32m/usr/local/Cellar/python/3.7.1/Frameworks/Python.framework/Versions/3.7/lib/python3.7/urllib/request.py\u001b[0m in \u001b[0;36murlretrieve\u001b[0;34m(url, filename, reporthook, data)\u001b[0m\n\u001b[1;32m    255\u001b[0m         \u001b[0;31m# Handle temporary file setup.\u001b[0m\u001b[0;34m\u001b[0m\u001b[0;34m\u001b[0m\u001b[0;34m\u001b[0m\u001b[0m\n\u001b[1;32m    256\u001b[0m         \u001b[0;32mif\u001b[0m \u001b[0mfilename\u001b[0m\u001b[0;34m:\u001b[0m\u001b[0;34m\u001b[0m\u001b[0;34m\u001b[0m\u001b[0m\n\u001b[0;32m--> 257\u001b[0;31m             \u001b[0mtfp\u001b[0m \u001b[0;34m=\u001b[0m \u001b[0mopen\u001b[0m\u001b[0;34m(\u001b[0m\u001b[0mfilename\u001b[0m\u001b[0;34m,\u001b[0m \u001b[0;34m'wb'\u001b[0m\u001b[0;34m)\u001b[0m\u001b[0;34m\u001b[0m\u001b[0;34m\u001b[0m\u001b[0m\n\u001b[0m\u001b[1;32m    258\u001b[0m         \u001b[0;32melse\u001b[0m\u001b[0;34m:\u001b[0m\u001b[0;34m\u001b[0m\u001b[0;34m\u001b[0m\u001b[0m\n\u001b[1;32m    259\u001b[0m             \u001b[0mtfp\u001b[0m \u001b[0;34m=\u001b[0m \u001b[0mtempfile\u001b[0m\u001b[0;34m.\u001b[0m\u001b[0mNamedTemporaryFile\u001b[0m\u001b[0;34m(\u001b[0m\u001b[0mdelete\u001b[0m\u001b[0;34m=\u001b[0m\u001b[0;32mFalse\u001b[0m\u001b[0;34m)\u001b[0m\u001b[0;34m\u001b[0m\u001b[0;34m\u001b[0m\u001b[0m\n",
      "\u001b[0;31mFileNotFoundError\u001b[0m: [Errno 2] No such file or directory: 'dumps/audio/Шкловский Жрать культуру (Это не вам/2017).mp3'"
     ]
    }
   ],
   "source": [
    "urlretrieve(tasks[0].url, tasks[0].full_name)\n",
    "\n"
   ]
  },
  {
   "cell_type": "code",
   "execution_count": 11,
   "metadata": {},
   "outputs": [
    {
     "data": {
      "text/plain": [
       "'dumpsaudioШкловский Жрать культуру (Это не вам2017).mp3'"
      ]
     },
     "execution_count": 11,
     "metadata": {},
     "output_type": "execute_result"
    }
   ],
   "source": [
    "tasks[0].full_name.replace('/','')"
   ]
  },
  {
   "cell_type": "code",
   "execution_count": 20,
   "metadata": {},
   "outputs": [
    {
     "name": "stdout",
     "output_type": "stream",
     "text": [
      "{'id': 71242763, 'owner_id': 11194224, 'url': 'https://psv4.vkuseraudio.net/c1623/u13040156/audios/7f3919018cbd.mp3?extra=280P_EtRZ3C0B9UaJ4ETa4fV4lkH3QNFbeZylFRYnujBHnprd9fVkmZg4xxLgRuSVoGRiBNUAj4Kg15fZuo8cVx_9gMI7c8iuMw_4GxbsDQp9IkNIx34P3zcjNX1CW-P2f9DxJrQdRTy04POiTJ6Ug', 'artist': 'Бард \"Сигурд\" ', 'title': 'Завесельная', 'duration': 375}\n",
      "{'id': 456239030, 'owner_id': 50415897, 'url': 'https://cs9-22v4.vkuseraudio.net/p11/4428c144e4f93a.mp3?extra=1-ml3dwodz9u8CE3-N0voUIePieJYsmccSAqqGqJIXbBw56jkOMGuJlYs0i3-PKBdsCJ29ZB7IymwxZnFX_yR0BwDQoODiCfIkrfdO9jU5UNOKViFx3_P17LbLyaJDkJJD0Fqh91LocnXx60w_HgHmQ', 'artist': 'Бард Сигурд', 'title': 'О! Всё сгорело нахуй!', 'duration': 135}\n",
      "{'id': 456239910, 'owner_id': 347669103, 'url': 'https://psv4.vkuseraudio.net/c422423/u155061237/audios/d6912a2e9a4e.mp3?extra=2EDviyESFogtEtrHXfO5hK7EhQbQ3pictsOvK99Y0RM4b7QofcBrANKps0YbRGnHYT84X_qHJ_iR-I73NCjNesHlfFET0dUTFBmHHlFuYhx6409tfsMZ413j1GFOz-Z_cRKUmIq7_KIPUVMKHN8I1A61', 'artist': 'Константин День Сверлов', 'title': 'Все сгорело нахуй!(Сигурд Бард cover)', 'duration': 175}\n",
      "{'id': 162303994, 'owner_id': 27507617, 'url': 'https://psv4.vkuseraudio.net/c4793/u39481735/audios/2530d9298d6c.mp3?extra=K74tCeAcRBNgfmJLJyQg7FbUwUaDj65PgbUQGArGw9QXgKZxbxmzSE2pZQ0BJ9RV1KIFqZOTPeZTqobs_zXNLzFuPZg0fWpi0_zVxh2FdgOSgfpjuvu5ZFA0CfojcI1Z9KBiN21O3h8TAxhVTQ98xl0', 'artist': 'Сигурд бард и Сотоварищи', 'title': 'Всё сгорело на хуй', 'duration': 135}\n",
      "{'id': 84112577, 'owner_id': 13259404, 'url': 'https://psv4.vkuseraudio.net/c4663/u28199068/audios/c24792072343.mp3?extra=qShIgjdlIx0w2mURbhCHL-MVOes7w73yYEztfjZeFp7i0D37rBdYEmnfqn5QZwAWScaM5rk1WmrBMqlVYfnyfVeYUWnckwg6F49lYg1UKwI1c2wh7_os8Y1n7qKNEtwezDqTg3TUpJ2fVs155peaXA', 'artist': 'Сигурд Бард и Сотоварищи Upload_SnowFlake', 'title': 'Всё сгорело на хуй', 'duration': 135}\n"
     ]
    }
   ],
   "source": [
    "q = 'hoizer'\n",
    "for i in audioapi.search(q, count=50):\n",
    "    print(i)"
   ]
  },
  {
   "cell_type": "code",
   "execution_count": null,
   "metadata": {},
   "outputs": [],
   "source": []
  }
 ],
 "metadata": {
  "kernelspec": {
   "display_name": "Python 3",
   "language": "python",
   "name": "python3"
  },
  "language_info": {
   "codemirror_mode": {
    "name": "ipython",
    "version": 3
   },
   "file_extension": ".py",
   "mimetype": "text/x-python",
   "name": "python",
   "nbconvert_exporter": "python",
   "pygments_lexer": "ipython3",
   "version": "3.7.1"
  }
 },
 "nbformat": 4,
 "nbformat_minor": 2
}
