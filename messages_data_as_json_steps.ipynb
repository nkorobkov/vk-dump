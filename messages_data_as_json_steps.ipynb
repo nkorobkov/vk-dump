{
 "cells": [
  {
   "cell_type": "code",
   "execution_count": 2,
   "metadata": {},
   "outputs": [],
   "source": [
    "import vk\n",
    "import tqdm\n",
    "\n",
    "import time\n",
    "import math\n",
    "from collections import deque\n",
    "import json\n",
    "import logging\n",
    "import sys\n",
    "import os\n",
    "\n",
    "import vk_api\n"
   ]
  },
  {
   "cell_type": "code",
   "execution_count": 4,
   "metadata": {},
   "outputs": [
    {
     "name": "stdout",
     "output_type": "stream",
     "text": [
      "2018-12-22 11:47:26,975 | INFO : Auth with login: 890360044773\n",
      "2018-12-22 11:47:26,976 | INFO : Checking remixsid...\n",
      "2018-12-22 11:47:26,977 | INFO : No remixsid\n",
      "2018-12-22 11:47:26,978 | INFO : remixsid from config is not valid: None\n",
      "2018-12-22 11:47:26,979 | INFO : Logging in...\n"
     ]
    },
    {
     "ename": "BadPassword",
     "evalue": "Bad password",
     "output_type": "error",
     "traceback": [
      "\u001b[0;31m---------------------------------------------------------------------------\u001b[0m",
      "\u001b[0;31mBadPassword\u001b[0m                               Traceback (most recent call last)",
      "\u001b[0;32m<ipython-input-4-b74f5aecd447>\u001b[0m in \u001b[0;36m<module>\u001b[0;34m\u001b[0m\n\u001b[1;32m     22\u001b[0m session = vk_api.VkApi(app_id='6787646', login=id+'3',\n\u001b[1;32m     23\u001b[0m                          scope='messages', password=password+'3', api_version=API_VERSION)\n\u001b[0;32m---> 24\u001b[0;31m \u001b[0msession\u001b[0m\u001b[0;34m.\u001b[0m\u001b[0mauth\u001b[0m\u001b[0;34m(\u001b[0m\u001b[0;34m)\u001b[0m\u001b[0;34m\u001b[0m\u001b[0;34m\u001b[0m\u001b[0m\n\u001b[0m\u001b[1;32m     25\u001b[0m \u001b[0mvkapi\u001b[0m \u001b[0;34m=\u001b[0m \u001b[0msession\u001b[0m\u001b[0;34m.\u001b[0m\u001b[0mget_api\u001b[0m\u001b[0;34m(\u001b[0m\u001b[0;34m)\u001b[0m\u001b[0;34m\u001b[0m\u001b[0;34m\u001b[0m\u001b[0m\n",
      "\u001b[0;32m~/Code/virtualenvs/main/lib/python3.7/site-packages/vk_api/vk_api.py\u001b[0m in \u001b[0;36mauth\u001b[0;34m(self, reauth, token_only)\u001b[0m\n\u001b[1;32m    169\u001b[0m             \u001b[0mself\u001b[0m\u001b[0;34m.\u001b[0m\u001b[0m_auth_token\u001b[0m\u001b[0;34m(\u001b[0m\u001b[0mreauth\u001b[0m\u001b[0;34m=\u001b[0m\u001b[0mreauth\u001b[0m\u001b[0;34m)\u001b[0m\u001b[0;34m\u001b[0m\u001b[0;34m\u001b[0m\u001b[0m\n\u001b[1;32m    170\u001b[0m         \u001b[0;32melse\u001b[0m\u001b[0;34m:\u001b[0m\u001b[0;34m\u001b[0m\u001b[0;34m\u001b[0m\u001b[0m\n\u001b[0;32m--> 171\u001b[0;31m             \u001b[0mself\u001b[0m\u001b[0;34m.\u001b[0m\u001b[0m_auth_cookies\u001b[0m\u001b[0;34m(\u001b[0m\u001b[0mreauth\u001b[0m\u001b[0;34m=\u001b[0m\u001b[0mreauth\u001b[0m\u001b[0;34m)\u001b[0m\u001b[0;34m\u001b[0m\u001b[0;34m\u001b[0m\u001b[0m\n\u001b[0m\u001b[1;32m    172\u001b[0m \u001b[0;34m\u001b[0m\u001b[0m\n\u001b[1;32m    173\u001b[0m     \u001b[0;32mdef\u001b[0m \u001b[0m_auth_cookies\u001b[0m\u001b[0;34m(\u001b[0m\u001b[0mself\u001b[0m\u001b[0;34m,\u001b[0m \u001b[0mreauth\u001b[0m\u001b[0;34m=\u001b[0m\u001b[0;32mFalse\u001b[0m\u001b[0;34m)\u001b[0m\u001b[0;34m:\u001b[0m\u001b[0;34m\u001b[0m\u001b[0;34m\u001b[0m\u001b[0m\n",
      "\u001b[0;32m~/Code/virtualenvs/main/lib/python3.7/site-packages/vk_api/vk_api.py\u001b[0m in \u001b[0;36m_auth_cookies\u001b[0;34m(self, reauth)\u001b[0m\n\u001b[1;32m    189\u001b[0m             )\n\u001b[1;32m    190\u001b[0m \u001b[0;34m\u001b[0m\u001b[0m\n\u001b[0;32m--> 191\u001b[0;31m             \u001b[0mself\u001b[0m\u001b[0;34m.\u001b[0m\u001b[0m_vk_login\u001b[0m\u001b[0;34m(\u001b[0m\u001b[0;34m)\u001b[0m\u001b[0;34m\u001b[0m\u001b[0;34m\u001b[0m\u001b[0m\n\u001b[0m\u001b[1;32m    192\u001b[0m         \u001b[0;32melse\u001b[0m\u001b[0;34m:\u001b[0m\u001b[0;34m\u001b[0m\u001b[0;34m\u001b[0m\u001b[0m\n\u001b[1;32m    193\u001b[0m             \u001b[0mself\u001b[0m\u001b[0;34m.\u001b[0m\u001b[0m_pass_security_check\u001b[0m\u001b[0;34m(\u001b[0m\u001b[0;34m)\u001b[0m\u001b[0;34m\u001b[0m\u001b[0;34m\u001b[0m\u001b[0m\n",
      "\u001b[0;32m~/Code/virtualenvs/main/lib/python3.7/site-packages/vk_api/vk_api.py\u001b[0m in \u001b[0;36m_vk_login\u001b[0;34m(self, captcha_sid, captcha_key)\u001b[0m\n\u001b[1;32m    283\u001b[0m \u001b[0;34m\u001b[0m\u001b[0m\n\u001b[1;32m    284\u001b[0m         \u001b[0;32mif\u001b[0m \u001b[0;34m'onLoginFailed(4'\u001b[0m \u001b[0;32min\u001b[0m \u001b[0mresponse\u001b[0m\u001b[0;34m.\u001b[0m\u001b[0mtext\u001b[0m\u001b[0;34m:\u001b[0m\u001b[0;34m\u001b[0m\u001b[0;34m\u001b[0m\u001b[0m\n\u001b[0;32m--> 285\u001b[0;31m             \u001b[0;32mraise\u001b[0m \u001b[0mBadPassword\u001b[0m\u001b[0;34m(\u001b[0m\u001b[0;34m'Bad password'\u001b[0m\u001b[0;34m)\u001b[0m\u001b[0;34m\u001b[0m\u001b[0;34m\u001b[0m\u001b[0m\n\u001b[0m\u001b[1;32m    286\u001b[0m \u001b[0;34m\u001b[0m\u001b[0m\n\u001b[1;32m    287\u001b[0m         \u001b[0;32mif\u001b[0m \u001b[0;34m'act=authcheck'\u001b[0m \u001b[0;32min\u001b[0m \u001b[0mresponse\u001b[0m\u001b[0;34m.\u001b[0m\u001b[0mtext\u001b[0m\u001b[0;34m:\u001b[0m\u001b[0;34m\u001b[0m\u001b[0;34m\u001b[0m\u001b[0m\n",
      "\u001b[0;31mBadPassword\u001b[0m: Bad password"
     ]
    }
   ],
   "source": [
    "MAX_COUNT = 200\n",
    "FIELDS = 'first_name,last_name,screen_name,bdate,common_count,is_friend,photo_max,photo_50'\n",
    "API_VERSION = '5.87'\n",
    "\n",
    "flags = {'get_chats': True,\n",
    "        'min_len': 500, \n",
    "        'test_run': True,\n",
    "        'creds_path':'creds.json', \n",
    "        'save_path':'dumpst/'}\n",
    "\n",
    "\n",
    "logger =logging.getLogger(__name__)\n",
    "logging.basicConfig(format='%(asctime)s | %(levelname)s : %(message)s',\n",
    "                     level=logging.INFO, stream=sys.stdout)\n",
    "\n",
    "def get_password_and_id(cp):\n",
    "    creds = json.load(open(cp))\n",
    "    return creds['pass'], creds['id']\n",
    "\n",
    "password, id = get_password_and_id(flags['creds_path'])\n",
    "\n",
    "session = vk_api.VkApi(app_id='6787646', login=id+'3',\n",
    "                         scope='messages', password=password+'3', api_version=API_VERSION)\n",
    "session.auth()\n",
    "vkapi = session.get_api()"
   ]
  },
  {
   "cell_type": "code",
   "execution_count": 42,
   "metadata": {},
   "outputs": [
    {
     "data": {
      "text/plain": [
       "'nikkorobk'"
      ]
     },
     "execution_count": 42,
     "metadata": {},
     "output_type": "execute_result"
    }
   ],
   "source": [
    "vkapi.account.getProfileInfo()['screen_name']"
   ]
  },
  {
   "cell_type": "code",
   "execution_count": 33,
   "metadata": {},
   "outputs": [],
   "source": [
    "class Throater:\n",
    "    \n",
    "    def __init__(self, mrc = 3, ti = 1.5):\n",
    "        self.total_sleep = 0\n",
    "        self.time_interval = ti\n",
    "        self.max_req_c = mrc\n",
    "        self.history = deque([0]*self.max_req_c)\n",
    "    def ready(self):\n",
    "        now = time.time()\n",
    "        self.history.append(now)\n",
    "        prev = self.history.popleft()\n",
    "        to_sleep = prev + self.time_interval - now \n",
    "        if to_sleep > 0:\n",
    "            self.total_sleep += to_sleep\n",
    "            time.sleep(to_sleep)\n",
    "        return\n",
    "t = Throater()"
   ]
  },
  {
   "cell_type": "code",
   "execution_count": 34,
   "metadata": {},
   "outputs": [],
   "source": [
    "def get_list(func, initial_offset = 0, **kwargs):\n",
    "    begin_t = time.time()\n",
    "    i = 0\n",
    "    t.ready()\n",
    "    things = func(v='5.87', count = MAX_COUNT, offset = initial_offset, **kwargs)\n",
    "    count = things['count']\n",
    "    things = things['items']\n",
    "    while len(things)< count-initial_offset:\n",
    "        i+=1\n",
    "        t.ready()\n",
    "        new_things = func(v=API_VERSION, count = MAX_COUNT, offset = initial_offset + len(things), **kwargs)\n",
    "        things.extend(new_things['items'])\n",
    "    return things\n",
    "\n",
    "def get_all_messages(peer_id, initial_offset = 0):\n",
    "    return get_list(vkapi.messages.getHistory,initial_offset, user_id = peer_id)\n",
    "\n",
    "def get_all_convs(initial_offset=0):\n",
    "    return get_list(vkapi.messages.getConversations,initial_offset)"
   ]
  },
  {
   "cell_type": "code",
   "execution_count": 35,
   "metadata": {},
   "outputs": [],
   "source": [
    "def get_dm_and_chat_ids_from_convs(convs):\n",
    "    direct_conv_ids = []\n",
    "    chat_conv_ids = []\n",
    "    for c in convs:\n",
    "        peer = c['conversation']['peer']\n",
    "        if peer['type'] == 'user':\n",
    "            direct_conv_ids.append(peer['id'])\n",
    "        else:\n",
    "            chat_conv_ids.append(peer['id'])\n",
    "    return direct_conv_ids, chat_conv_ids"
   ]
  },
  {
   "cell_type": "code",
   "execution_count": 36,
   "metadata": {},
   "outputs": [],
   "source": [
    "def get_data_draft(ids):\n",
    "    data = {'total_msg_count':0, 'items':{}}\n",
    "    for i in tqdm.tqdm_notebook(ids):\n",
    "        t.ready()\n",
    "        batch = vkapi.messages.getHistory(v=API_VERSION, count = MAX_COUNT, extended = 1, fields=FIELDS, peer_id = i)\n",
    "        count = batch['count']\n",
    "        data['total_msg_count'] += count\n",
    "        data['items'][i] = batch\n",
    "    return data\n",
    "    "
   ]
  },
  {
   "cell_type": "code",
   "execution_count": 37,
   "metadata": {},
   "outputs": [],
   "source": [
    "def estimate_requests(data):\n",
    "    r = 0\n",
    "    l = 0\n",
    "    for v in list(data['items'].values()):\n",
    "        if v['count']< flags['min_len']:\n",
    "            continue\n",
    "        done = len(v['items'])\n",
    "        left = v['count'] - done\n",
    "        r += math.ceil(left/MAX_COUNT)\n",
    "        l += left\n",
    "    return r, l"
   ]
  },
  {
   "cell_type": "code",
   "execution_count": 38,
   "metadata": {},
   "outputs": [],
   "source": [
    "def complete_data_draft(data):\n",
    "    ids = list(data['items'].keys())\n",
    "    \n",
    "    ids.sort(key = lambda x: data['items'][x]['count'])\n",
    "    rn, l = estimate_requests(data)\n",
    "    logger.info('Need to download {} messages in {} requests'.format(l, rn))\n",
    "    with tqdm.tqdm_notebook(total = rn) as pbar:\n",
    "        for user_id in ids:\n",
    "            done = len(data['items'][user_id]['items'])\n",
    "            total = data['items'][user_id]['count']\n",
    "            if done >= total:\n",
    "                continue\n",
    "            expected_requests = math.ceil((total - done)/MAX_COUNT)\n",
    "            data['items'][user_id]['items'].extend(get_all_messages(user_id, done))\n",
    "            # here we might miss some info about attached messages authors. \n",
    "            pbar.update(expected_requests)\n",
    "            \n",
    "    return data"
   ]
  },
  {
   "cell_type": "code",
   "execution_count": 39,
   "metadata": {},
   "outputs": [],
   "source": [
    "def get_all_messages_data():\n",
    "    logger.info('Getting info about all conversations')\n",
    "    convs = get_all_convs()\n",
    "    dmi, ci = get_dm_and_chat_ids_from_convs(convs)\n",
    "    if not flags['get_chats']: ci = []\n",
    "    if flags['test_run']: dmi, ci = dmi[:5],ci[:5]\n",
    "    logger.info('Starting fetch \\n Collecting meta info and estimates')\n",
    "    data = get_data_draft(dmi+ci)\n",
    "    logger.info('Meta info collected. \\nTotal messages found: {}\\nCollecting messages text'.format(data['total_msg_count']))\n",
    "    data = complete_data_draft(data)\n",
    "    return data"
   ]
  },
  {
   "cell_type": "code",
   "execution_count": 40,
   "metadata": {},
   "outputs": [
    {
     "name": "stdout",
     "output_type": "stream",
     "text": [
      "2018-12-22 11:43:53,765 | INFO : Getting info about all conversations\n",
      "2018-12-22 11:43:58,856 | INFO : Starting fetch \n",
      " Collecting meta info and estimates\n"
     ]
    },
    {
     "data": {
      "application/vnd.jupyter.widget-view+json": {
       "model_id": "4a6d7eb8f98447a29cfbd75fab644884",
       "version_major": 2,
       "version_minor": 0
      },
      "text/plain": [
       "HBox(children=(IntProgress(value=0, max=10), HTML(value='')))"
      ]
     },
     "metadata": {},
     "output_type": "display_data"
    },
    {
     "name": "stdout",
     "output_type": "stream",
     "text": [
      "\n",
      "2018-12-22 11:44:05,253 | INFO : Meta info collected. \n",
      "Total messages found: 57145\n",
      "Collecting messages text\n",
      "2018-12-22 11:44:05,255 | INFO : Need to download 55783 messages in 282 requests\n"
     ]
    },
    {
     "data": {
      "application/vnd.jupyter.widget-view+json": {
       "model_id": "13ff824313c24d7f8f9f3f566dcf675c",
       "version_major": 2,
       "version_minor": 0
      },
      "text/plain": [
       "HBox(children=(IntProgress(value=0, max=282), HTML(value='')))"
      ]
     },
     "metadata": {},
     "output_type": "display_data"
    },
    {
     "name": "stdout",
     "output_type": "stream",
     "text": [
      "\n"
     ]
    },
    {
     "ename": "KeyboardInterrupt",
     "evalue": "",
     "output_type": "error",
     "traceback": [
      "\u001b[0;31m---------------------------------------------------------------------------\u001b[0m",
      "\u001b[0;31mKeyboardInterrupt\u001b[0m                         Traceback (most recent call last)",
      "\u001b[0;32m<ipython-input-40-924cf8c56bad>\u001b[0m in \u001b[0;36m<module>\u001b[0;34m\u001b[0m\n\u001b[0;32m----> 1\u001b[0;31m \u001b[0mdata\u001b[0m \u001b[0;34m=\u001b[0m \u001b[0mget_all_messages_data\u001b[0m\u001b[0;34m(\u001b[0m\u001b[0;34m)\u001b[0m\u001b[0;34m\u001b[0m\u001b[0;34m\u001b[0m\u001b[0m\n\u001b[0m",
      "\u001b[0;32m<ipython-input-39-db246227709a>\u001b[0m in \u001b[0;36mget_all_messages_data\u001b[0;34m()\u001b[0m\n\u001b[1;32m      8\u001b[0m     \u001b[0mdata\u001b[0m \u001b[0;34m=\u001b[0m \u001b[0mget_data_draft\u001b[0m\u001b[0;34m(\u001b[0m\u001b[0mdmi\u001b[0m\u001b[0;34m+\u001b[0m\u001b[0mci\u001b[0m\u001b[0;34m)\u001b[0m\u001b[0;34m\u001b[0m\u001b[0;34m\u001b[0m\u001b[0m\n\u001b[1;32m      9\u001b[0m     \u001b[0mlogger\u001b[0m\u001b[0;34m.\u001b[0m\u001b[0minfo\u001b[0m\u001b[0;34m(\u001b[0m\u001b[0;34m'Meta info collected. \\nTotal messages found: {}\\nCollecting messages text'\u001b[0m\u001b[0;34m.\u001b[0m\u001b[0mformat\u001b[0m\u001b[0;34m(\u001b[0m\u001b[0mdata\u001b[0m\u001b[0;34m[\u001b[0m\u001b[0;34m'total_msg_count'\u001b[0m\u001b[0;34m]\u001b[0m\u001b[0;34m)\u001b[0m\u001b[0;34m)\u001b[0m\u001b[0;34m\u001b[0m\u001b[0;34m\u001b[0m\u001b[0m\n\u001b[0;32m---> 10\u001b[0;31m     \u001b[0mdata\u001b[0m \u001b[0;34m=\u001b[0m \u001b[0mcomplete_data_draft\u001b[0m\u001b[0;34m(\u001b[0m\u001b[0mdata\u001b[0m\u001b[0;34m)\u001b[0m\u001b[0;34m\u001b[0m\u001b[0;34m\u001b[0m\u001b[0m\n\u001b[0m\u001b[1;32m     11\u001b[0m     \u001b[0;32mreturn\u001b[0m \u001b[0mdata\u001b[0m\u001b[0;34m\u001b[0m\u001b[0;34m\u001b[0m\u001b[0m\n",
      "\u001b[0;32m<ipython-input-38-bc2c10924ac4>\u001b[0m in \u001b[0;36mcomplete_data_draft\u001b[0;34m(data)\u001b[0m\n\u001b[1;32m     12\u001b[0m                 \u001b[0;32mcontinue\u001b[0m\u001b[0;34m\u001b[0m\u001b[0;34m\u001b[0m\u001b[0m\n\u001b[1;32m     13\u001b[0m             \u001b[0mexpected_requests\u001b[0m \u001b[0;34m=\u001b[0m \u001b[0mmath\u001b[0m\u001b[0;34m.\u001b[0m\u001b[0mceil\u001b[0m\u001b[0;34m(\u001b[0m\u001b[0;34m(\u001b[0m\u001b[0mtotal\u001b[0m \u001b[0;34m-\u001b[0m \u001b[0mdone\u001b[0m\u001b[0;34m)\u001b[0m\u001b[0;34m/\u001b[0m\u001b[0mMAX_COUNT\u001b[0m\u001b[0;34m)\u001b[0m\u001b[0;34m\u001b[0m\u001b[0;34m\u001b[0m\u001b[0m\n\u001b[0;32m---> 14\u001b[0;31m             \u001b[0mdata\u001b[0m\u001b[0;34m[\u001b[0m\u001b[0;34m'items'\u001b[0m\u001b[0;34m]\u001b[0m\u001b[0;34m[\u001b[0m\u001b[0muser_id\u001b[0m\u001b[0;34m]\u001b[0m\u001b[0;34m[\u001b[0m\u001b[0;34m'items'\u001b[0m\u001b[0;34m]\u001b[0m\u001b[0;34m.\u001b[0m\u001b[0mextend\u001b[0m\u001b[0;34m(\u001b[0m\u001b[0mget_all_messages\u001b[0m\u001b[0;34m(\u001b[0m\u001b[0muser_id\u001b[0m\u001b[0;34m,\u001b[0m \u001b[0mdone\u001b[0m\u001b[0;34m)\u001b[0m\u001b[0;34m)\u001b[0m\u001b[0;34m\u001b[0m\u001b[0;34m\u001b[0m\u001b[0m\n\u001b[0m\u001b[1;32m     15\u001b[0m             \u001b[0;31m# here we might miss some info about attached messages authors.\u001b[0m\u001b[0;34m\u001b[0m\u001b[0;34m\u001b[0m\u001b[0;34m\u001b[0m\u001b[0m\n\u001b[1;32m     16\u001b[0m             \u001b[0mpbar\u001b[0m\u001b[0;34m.\u001b[0m\u001b[0mupdate\u001b[0m\u001b[0;34m(\u001b[0m\u001b[0mexpected_requests\u001b[0m\u001b[0;34m)\u001b[0m\u001b[0;34m\u001b[0m\u001b[0;34m\u001b[0m\u001b[0m\n",
      "\u001b[0;32m<ipython-input-34-04e256316284>\u001b[0m in \u001b[0;36mget_all_messages\u001b[0;34m(peer_id, initial_offset)\u001b[0m\n\u001b[1;32m     14\u001b[0m \u001b[0;34m\u001b[0m\u001b[0m\n\u001b[1;32m     15\u001b[0m \u001b[0;32mdef\u001b[0m \u001b[0mget_all_messages\u001b[0m\u001b[0;34m(\u001b[0m\u001b[0mpeer_id\u001b[0m\u001b[0;34m,\u001b[0m \u001b[0minitial_offset\u001b[0m \u001b[0;34m=\u001b[0m \u001b[0;36m0\u001b[0m\u001b[0;34m)\u001b[0m\u001b[0;34m:\u001b[0m\u001b[0;34m\u001b[0m\u001b[0;34m\u001b[0m\u001b[0m\n\u001b[0;32m---> 16\u001b[0;31m     \u001b[0;32mreturn\u001b[0m \u001b[0mget_list\u001b[0m\u001b[0;34m(\u001b[0m\u001b[0mvkapi\u001b[0m\u001b[0;34m.\u001b[0m\u001b[0mmessages\u001b[0m\u001b[0;34m.\u001b[0m\u001b[0mgetHistory\u001b[0m\u001b[0;34m,\u001b[0m\u001b[0minitial_offset\u001b[0m\u001b[0;34m,\u001b[0m \u001b[0muser_id\u001b[0m \u001b[0;34m=\u001b[0m \u001b[0mpeer_id\u001b[0m\u001b[0;34m)\u001b[0m\u001b[0;34m\u001b[0m\u001b[0;34m\u001b[0m\u001b[0m\n\u001b[0m\u001b[1;32m     17\u001b[0m \u001b[0;34m\u001b[0m\u001b[0m\n\u001b[1;32m     18\u001b[0m \u001b[0;32mdef\u001b[0m \u001b[0mget_all_convs\u001b[0m\u001b[0;34m(\u001b[0m\u001b[0minitial_offset\u001b[0m\u001b[0;34m=\u001b[0m\u001b[0;36m0\u001b[0m\u001b[0;34m)\u001b[0m\u001b[0;34m:\u001b[0m\u001b[0;34m\u001b[0m\u001b[0;34m\u001b[0m\u001b[0m\n",
      "\u001b[0;32m<ipython-input-34-04e256316284>\u001b[0m in \u001b[0;36mget_list\u001b[0;34m(func, initial_offset, **kwargs)\u001b[0m\n\u001b[1;32m      9\u001b[0m         \u001b[0mi\u001b[0m\u001b[0;34m+=\u001b[0m\u001b[0;36m1\u001b[0m\u001b[0;34m\u001b[0m\u001b[0;34m\u001b[0m\u001b[0m\n\u001b[1;32m     10\u001b[0m         \u001b[0mt\u001b[0m\u001b[0;34m.\u001b[0m\u001b[0mready\u001b[0m\u001b[0;34m(\u001b[0m\u001b[0;34m)\u001b[0m\u001b[0;34m\u001b[0m\u001b[0;34m\u001b[0m\u001b[0m\n\u001b[0;32m---> 11\u001b[0;31m         \u001b[0mnew_things\u001b[0m \u001b[0;34m=\u001b[0m \u001b[0mfunc\u001b[0m\u001b[0;34m(\u001b[0m\u001b[0mv\u001b[0m\u001b[0;34m=\u001b[0m\u001b[0mAPI_VERSION\u001b[0m\u001b[0;34m,\u001b[0m \u001b[0mcount\u001b[0m \u001b[0;34m=\u001b[0m \u001b[0mMAX_COUNT\u001b[0m\u001b[0;34m,\u001b[0m \u001b[0moffset\u001b[0m \u001b[0;34m=\u001b[0m \u001b[0minitial_offset\u001b[0m \u001b[0;34m+\u001b[0m \u001b[0mlen\u001b[0m\u001b[0;34m(\u001b[0m\u001b[0mthings\u001b[0m\u001b[0;34m)\u001b[0m\u001b[0;34m,\u001b[0m \u001b[0;34m**\u001b[0m\u001b[0mkwargs\u001b[0m\u001b[0;34m)\u001b[0m\u001b[0;34m\u001b[0m\u001b[0;34m\u001b[0m\u001b[0m\n\u001b[0m\u001b[1;32m     12\u001b[0m         \u001b[0mthings\u001b[0m\u001b[0;34m.\u001b[0m\u001b[0mextend\u001b[0m\u001b[0;34m(\u001b[0m\u001b[0mnew_things\u001b[0m\u001b[0;34m[\u001b[0m\u001b[0;34m'items'\u001b[0m\u001b[0;34m]\u001b[0m\u001b[0;34m)\u001b[0m\u001b[0;34m\u001b[0m\u001b[0;34m\u001b[0m\u001b[0m\n\u001b[1;32m     13\u001b[0m     \u001b[0;32mreturn\u001b[0m \u001b[0mthings\u001b[0m\u001b[0;34m\u001b[0m\u001b[0;34m\u001b[0m\u001b[0m\n",
      "\u001b[0;32m~/Code/virtualenvs/main/lib/python3.7/site-packages/vk_api/vk_api.py\u001b[0m in \u001b[0;36m__call__\u001b[0;34m(self, **kwargs)\u001b[0m\n\u001b[1;32m    644\u001b[0m \u001b[0;34m\u001b[0m\u001b[0m\n\u001b[1;32m    645\u001b[0m     \u001b[0;32mdef\u001b[0m \u001b[0m__call__\u001b[0m\u001b[0;34m(\u001b[0m\u001b[0mself\u001b[0m\u001b[0;34m,\u001b[0m \u001b[0;34m**\u001b[0m\u001b[0mkwargs\u001b[0m\u001b[0;34m)\u001b[0m\u001b[0;34m:\u001b[0m\u001b[0;34m\u001b[0m\u001b[0;34m\u001b[0m\u001b[0m\n\u001b[0;32m--> 646\u001b[0;31m         \u001b[0;32mreturn\u001b[0m \u001b[0mself\u001b[0m\u001b[0;34m.\u001b[0m\u001b[0m_vk\u001b[0m\u001b[0;34m.\u001b[0m\u001b[0mmethod\u001b[0m\u001b[0;34m(\u001b[0m\u001b[0mself\u001b[0m\u001b[0;34m.\u001b[0m\u001b[0m_method\u001b[0m\u001b[0;34m,\u001b[0m \u001b[0mkwargs\u001b[0m\u001b[0;34m)\u001b[0m\u001b[0;34m\u001b[0m\u001b[0;34m\u001b[0m\u001b[0m\n\u001b[0m",
      "\u001b[0;32m~/Code/virtualenvs/main/lib/python3.7/site-packages/vk_api/vk_api.py\u001b[0m in \u001b[0;36mmethod\u001b[0;34m(self, method, values, captcha_sid, captcha_key, raw)\u001b[0m\n\u001b[1;32m    575\u001b[0m \u001b[0;34m\u001b[0m\u001b[0m\n\u001b[1;32m    576\u001b[0m             \u001b[0;32mif\u001b[0m \u001b[0mdelay\u001b[0m \u001b[0;34m>\u001b[0m \u001b[0;36m0\u001b[0m\u001b[0;34m:\u001b[0m\u001b[0;34m\u001b[0m\u001b[0;34m\u001b[0m\u001b[0m\n\u001b[0;32m--> 577\u001b[0;31m                 \u001b[0mtime\u001b[0m\u001b[0;34m.\u001b[0m\u001b[0msleep\u001b[0m\u001b[0;34m(\u001b[0m\u001b[0mdelay\u001b[0m\u001b[0;34m)\u001b[0m\u001b[0;34m\u001b[0m\u001b[0;34m\u001b[0m\u001b[0m\n\u001b[0m\u001b[1;32m    578\u001b[0m \u001b[0;34m\u001b[0m\u001b[0m\n\u001b[1;32m    579\u001b[0m             response = self.http.post(\n",
      "\u001b[0;31mKeyboardInterrupt\u001b[0m: "
     ]
    }
   ],
   "source": [
    "data = get_all_messages_data()"
   ]
  },
  {
   "cell_type": "code",
   "execution_count": 100,
   "metadata": {},
   "outputs": [],
   "source": [
    "def generate_full_conversations_from_draft(data):\n",
    "    ids = list(data['items'].keys())\n",
    "    \n",
    "    ids.sort(key = lambda x: data['items'][x]['count'])\n",
    "    rn, l = estimate_requests(data)\n",
    "    logger.info('Need to download {} messages in {} requests'.format(l, rn))\n",
    "    with tqdm.tqdm_notebook(total = rn) as pbar:\n",
    "        for user_id in ids:\n",
    "            obj = data['items'][user_id]\n",
    "            done = len(obj['items'])\n",
    "            total = obj['count']\n",
    "            if flags['min_len'] is not None and total< flags['min_len']:\n",
    "                continue\n",
    "            if done >= total:\n",
    "                yield user_id, obj\n",
    "                continue\n",
    "            expected_requests = math.ceil((total - done)/MAX_COUNT)\n",
    "            \n",
    "            obj['items'].extend(get_all_messages(user_id, done))\n",
    "            # here we might miss some info about attached messages authors. \n",
    "            pbar.update(expected_requests)\n",
    "            yield user_id, obj\n",
    "            \n",
    "            \n",
    "    "
   ]
  },
  {
   "cell_type": "code",
   "execution_count": 101,
   "metadata": {},
   "outputs": [],
   "source": [
    "def organize_filestructure():\n",
    "    t.ready()\n",
    "    sc_name = vkapi.account.getProfileInfo(v=API_VERSION)['screen_name']\n",
    "    dirname = os.path.join(flags['save_path'], '{} at {}'.format(sc_name, time.asctime()))\n",
    "    if not os.path.exists(dirname):\n",
    "        os.makedirs(dirname)\n",
    "    return os.path.join(dirname,\"{}.json\")"
   ]
  },
  {
   "cell_type": "code",
   "execution_count": 102,
   "metadata": {},
   "outputs": [],
   "source": [
    "def save_all_messages_data():\n",
    "    logger.info('Getting info about all conversations')\n",
    "    convs = get_all_convs()\n",
    "    dmi, ci = get_dm_and_chat_ids_from_convs(convs)\n",
    "    if not flags['get_chats']: ci = []\n",
    "    if flags['test_run']: dmi, ci = dmi[:5],ci[:5]\n",
    "    logger.info('Starting fetch \\n Collecting meta info and estimates')\n",
    "    data = get_data_draft(dmi+ci)\n",
    "    name_template = organize_filestructure()\n",
    "\n",
    "    logger.info('Meta info collected. \\nTotal messages found: {}\\Saving messages text in {}'\n",
    "                .format(data['total_msg_count'], name_template))    \n",
    "    for user_id, user_data in generate_full_conversations_from_draft(data):\n",
    "        with open(name_template.format(user_id), 'w') as file:\n",
    "            json.dump(user_data, file, ensure_ascii=False)\n"
   ]
  },
  {
   "cell_type": "code",
   "execution_count": 103,
   "metadata": {},
   "outputs": [
    {
     "name": "stdout",
     "output_type": "stream",
     "text": [
      "2018-12-18 21:43:36,031 | INFO : Getting info about all conversations\n",
      "2018-12-18 21:43:38,028 | INFO : Starting fetch \n",
      " Collecting meta info and estimates\n"
     ]
    },
    {
     "data": {
      "application/vnd.jupyter.widget-view+json": {
       "model_id": "20e8d8a92e7c45e38d49b51bf1603d6a",
       "version_major": 2,
       "version_minor": 0
      },
      "text/plain": [
       "HBox(children=(IntProgress(value=0, max=10), HTML(value='')))"
      ]
     },
     "metadata": {},
     "output_type": "display_data"
    },
    {
     "name": "stdout",
     "output_type": "stream",
     "text": [
      "\n",
      "2018-12-18 21:43:42,664 | INFO : Meta info collected. \n",
      "Total messages found: 64957\\Saving messages text in dumps/nikkorobk at Tue Dec 18 21:43:42 2018/{}.json\n",
      "2018-12-18 21:43:42,667 | INFO : Need to download 63088 messages in 319 requests\n"
     ]
    },
    {
     "data": {
      "application/vnd.jupyter.widget-view+json": {
       "model_id": "c264585e81ad4a6fa70da3887d98179d",
       "version_major": 2,
       "version_minor": 0
      },
      "text/plain": [
       "HBox(children=(IntProgress(value=0, max=319), HTML(value='')))"
      ]
     },
     "metadata": {},
     "output_type": "display_data"
    },
    {
     "name": "stdout",
     "output_type": "stream",
     "text": [
      "\n"
     ]
    }
   ],
   "source": [
    "save_all_messages_data()"
   ]
  },
  {
   "cell_type": "code",
   "execution_count": 329,
   "metadata": {},
   "outputs": [],
   "source": [
    "json.dump(data, open('nikkorobk_data_first_iteration.json', 'w'))"
   ]
  },
  {
   "cell_type": "code",
   "execution_count": 47,
   "metadata": {},
   "outputs": [
    {
     "data": {
      "text/plain": [
       "'Tue Dec 18 20:50:20 2018'"
      ]
     },
     "execution_count": 47,
     "metadata": {},
     "output_type": "execute_result"
    }
   ],
   "source": [
    "time.asctime()"
   ]
  },
  {
   "cell_type": "code",
   "execution_count": 53,
   "metadata": {},
   "outputs": [
    {
     "data": {
      "text/plain": [
       "'dumps/nikkorobk at Tue Dec 18 20:52:25 2018/{}.json'"
      ]
     },
     "execution_count": 53,
     "metadata": {},
     "output_type": "execute_result"
    }
   ],
   "source": []
  },
  {
   "cell_type": "code",
   "execution_count": 85,
   "metadata": {},
   "outputs": [],
   "source": [
    "a = json.load(open('100.json', 'r'))"
   ]
  },
  {
   "cell_type": "code",
   "execution_count": 86,
   "metadata": {},
   "outputs": [],
   "source": [
    "json.dump(a,open('110.json', 'w'), ensure_ascii=False)"
   ]
  },
  {
   "cell_type": "code",
   "execution_count": 13,
   "metadata": {},
   "outputs": [],
   "source": [
    "\n",
    "\n",
    "convs = get_all_convs()"
   ]
  },
  {
   "cell_type": "code",
   "execution_count": 16,
   "metadata": {},
   "outputs": [
    {
     "data": {
      "text/plain": [
       "284268"
      ]
     },
     "execution_count": 16,
     "metadata": {},
     "output_type": "execute_result"
    }
   ],
   "source": [
    "convs[0]['conversation']['last_message_id']"
   ]
  },
  {
   "cell_type": "code",
   "execution_count": null,
   "metadata": {},
   "outputs": [],
   "source": []
  }
 ],
 "metadata": {
  "kernelspec": {
   "display_name": "Python 3",
   "language": "python",
   "name": "python3"
  },
  "language_info": {
   "codemirror_mode": {
    "name": "ipython",
    "version": 3
   },
   "file_extension": ".py",
   "mimetype": "text/x-python",
   "name": "python",
   "nbconvert_exporter": "python",
   "pygments_lexer": "ipython3",
   "version": "3.7.1"
  }
 },
 "nbformat": 4,
 "nbformat_minor": 2
}
