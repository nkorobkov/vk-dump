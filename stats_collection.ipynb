{
 "cells": [
  {
   "cell_type": "code",
   "execution_count": 1,
   "metadata": {},
   "outputs": [],
   "source": [
    "import glob\n",
    "import json\n",
    "import os\n",
    "from urllib.request import urlretrieve\n",
    "from multiprocessing import Pool\n",
    "from collections import defaultdict, namedtuple\n",
    "from pprint import pprint\n",
    "import tqdm\n",
    "from collections import Counter\n",
    "import string\n",
    "from matplotlib import pyplot as plt\n",
    "import numpy as np\n",
    "import pymorphy2\n",
    "#import pandas as pd\n",
    "%matplotlib inline"
   ]
  },
  {
   "cell_type": "code",
   "execution_count": 2,
   "metadata": {},
   "outputs": [
    {
     "data": {
      "application/vnd.jupyter.widget-view+json": {
       "model_id": "cd3a3167776648eb87a338b0a41e5631",
       "version_major": 2,
       "version_minor": 0
      },
      "text/plain": [
       "HBox(children=(IntProgress(value=0, max=817), HTML(value='')))"
      ]
     },
     "metadata": {},
     "output_type": "display_data"
    },
    {
     "name": "stdout",
     "output_type": "stream",
     "text": [
      "\n"
     ]
    }
   ],
   "source": [
    "my_messages = []\n",
    "\n",
    "files_list=glob.glob(os.path.join('dumps/nikkorobk', '*/*.json'))\n",
    "for file in tqdm.tqdm_notebook(files_list):\n",
    "    data = json.load(open(file))\n",
    "    \n",
    "    for m in data['items']:\n",
    "        if m['out']:\n",
    "            my_messages.append(m)"
   ]
  },
  {
   "cell_type": "code",
   "execution_count": 3,
   "metadata": {},
   "outputs": [
    {
     "data": {
      "text/plain": [
       "'поехать'"
      ]
     },
     "execution_count": 3,
     "metadata": {},
     "output_type": "execute_result"
    }
   ],
   "source": [
    "morph = pymorphy2.MorphAnalyzer()\n",
    "\n",
    "morph.parse('поехали')[0].normal_form\n"
   ]
  },
  {
   "cell_type": "code",
   "execution_count": 4,
   "metadata": {},
   "outputs": [
    {
     "data": {
      "text/plain": [
       "HBox(children=(IntProgress(value=0, max=66180), HTML(value='')))"
      ]
     },
     "metadata": {},
     "output_type": "display_data"
    },
    {
     "name": "stdout",
     "output_type": "stream",
     "text": [
      "\n"
     ]
    }
   ],
   "source": [
    "qcount = 0\n",
    "\n",
    "for m in tqdm.tqdm_notebook(my_messages):\n",
    "    m['lemmatize'] = list(filter(lambda x: x, map(lambda x: morph.parse(x.strip(string.punctuation))[0].normal_form, m['text'].lower().split())))\n",
    "    m['len'] = len(m['lemmatize'])\n",
    "    if m['text']:\n",
    "        m['is_q'] = m['text'].count('?')>0\n"
   ]
  },
  {
   "cell_type": "code",
   "execution_count": 5,
   "metadata": {
    "scrolled": true
   },
   "outputs": [
    {
     "data": {
      "text/plain": [
       "{'date': 1545251624,\n",
       " 'from_id': 21854966,\n",
       " 'id': 283961,\n",
       " 'out': 1,\n",
       " 'peer_id': 9468306,\n",
       " 'text': 'Еще есть вопрос про хату в лагере. \\nЕсли ехать туда на нг, сколько народу там реально полжить спать и в каких условиях ?\\nГриша говорит ты шаришь лучше всех.',\n",
       " 'conversation_message_id': 6451,\n",
       " 'fwd_messages': [],\n",
       " 'important': False,\n",
       " 'random_id': 1716296581,\n",
       " 'attachments': [],\n",
       " 'is_hidden': False}"
      ]
     },
     "execution_count": 5,
     "metadata": {},
     "output_type": "execute_result"
    }
   ],
   "source": [
    "my_messages[555]"
   ]
  },
  {
   "cell_type": "code",
   "execution_count": 6,
   "metadata": {},
   "outputs": [],
   "source": [
    "all_used_words = []\n",
    "all_lens = []\n",
    "qcount = 0\n",
    "for m in my_messages:\n",
    "    all_used_words.extend(m['lemmatize'])\n",
    "    all_lens.append(m.get('len'))\n",
    "    if m.get('is_q'):\n",
    "        qcount +=1 "
   ]
  },
  {
   "cell_type": "code",
   "execution_count": 7,
   "metadata": {},
   "outputs": [],
   "source": [
    "c = Counter(all_used_words)\n",
    "cl = Counter(all_lens)"
   ]
  },
  {
   "cell_type": "code",
   "execution_count": 8,
   "metadata": {},
   "outputs": [
    {
     "name": "stdout",
     "output_type": "stream",
     "text": [
      "66180 total messages\n",
      "575197 total words:\n",
      "11482 questions\n",
      "unique words: 26450\n",
      "twice used words 12955\n",
      "3-times used words 9246\n",
      "4-times used words 7351\n",
      "5-times used words 6204\n"
     ]
    }
   ],
   "source": [
    "#bad calculations, should use kv pairs from c directly\n",
    "print(len(my_messages), 'total messages')\n",
    "print(len(all_used_words), 'total words:')\n",
    "print(qcount, 'questions')\n",
    "print('unique words:' , len(set(all_used_words)))\n",
    "print('twice used words', len(set(filter(lambda x: c.get(x)>1, all_used_words))))\n",
    "print('3-times used words', len(set(filter(lambda x: c.get(x)>2, all_used_words))))\n",
    "print('4-times used words', len(set(filter(lambda x: c.get(x)>3, all_used_words))))\n",
    "print('5-times used words', len(set(filter(lambda x: c.get(x)>4, all_used_words))))"
   ]
  },
  {
   "cell_type": "code",
   "execution_count": 32,
   "metadata": {},
   "outputs": [
    {
     "data": {
      "image/png": "[encoded data removed]",
      "text/plain": [
       "<Figure size 432x288 with 1 Axes>"
      ]
     },
     "metadata": {
      "needs_background": "light"
     },
     "output_type": "display_data"
    }
   ],
   "source": [
    "mc  = np.array(c.most_common(100))\n",
    "plt.plot(np.arange(len(mc[:,0])),list(map(int,mc[:,1])))\n",
    "plt.show()"
   ]
  },
  {
   "cell_type": "code",
   "execution_count": 18,
   "metadata": {},
   "outputs": [
    {
     "data": {
      "text/plain": [
       "HBox(children=(IntProgress(value=0, max=817), HTML(value='')))"
      ]
     },
     "metadata": {},
     "output_type": "display_data"
    },
    {
     "name": "stdout",
     "output_type": "stream",
     "text": [
      "\n"
     ]
    }
   ],
   "source": [
    "convs = []\n",
    "\n",
    "files_list=glob.glob(os.path.join('dumps/nikkorobk', '*/*.json'))\n",
    "for file in tqdm.tqdm_notebook(files_list):\n",
    "    data = json.load(open(file))\n",
    "    d = {}\n",
    "    d['chat'] = 0 < data.get('conversations')[0].get('peer').get('id') < 2000000000\n",
    "    d['len'] = data['count']\n",
    "    d['in'] = len(list(filter(lambda x: not x['out'], data['items'])))\n",
    "    d['profiles'] = list((filter(lambda x: x.get('screen_name') != 'nikkorobk', data['profiles'])))\n",
    "    d['id'] = int(file.split('/')[-2])\n",
    "    convs.append(d)"
   ]
  },
  {
   "cell_type": "code",
   "execution_count": 13,
   "metadata": {},
   "outputs": [],
   "source": [
    "conv_lens = {'chat':[], 'dialog':[]}\n",
    "\n",
    "for c in convs:\n",
    "    if c.get('chat'):\n",
    "        conv_lens['chat'].append(c.get('len'))\n",
    "    else:\n",
    "        conv_lens['dialog'].append(c.get('len'))\n",
    "        \n",
    "\n",
    "    "
   ]
  },
  {
   "cell_type": "code",
   "execution_count": 4,
   "metadata": {
    "scrolled": false
   },
   "outputs": [
    {
     "ename": "NameError",
     "evalue": "name 'convs' is not defined",
     "output_type": "error",
     "traceback": [
      "\u001b[0;31m---------------------------------------------------------------------------\u001b[0m",
      "\u001b[0;31mNameError\u001b[0m                                 Traceback (most recent call last)",
      "\u001b[0;32m<ipython-input-4-7ecbda9ccdce>\u001b[0m in \u001b[0;36m<module>\u001b[0;34m\u001b[0m\n\u001b[0;32m----> 1\u001b[0;31m \u001b[0mdialogs\u001b[0m \u001b[0;34m=\u001b[0m \u001b[0mlist\u001b[0m\u001b[0;34m(\u001b[0m\u001b[0mfilter\u001b[0m\u001b[0;34m(\u001b[0m\u001b[0;32mlambda\u001b[0m \u001b[0mx\u001b[0m\u001b[0;34m:\u001b[0m  \u001b[0mx\u001b[0m\u001b[0;34m.\u001b[0m\u001b[0mget\u001b[0m\u001b[0;34m(\u001b[0m\u001b[0;34m'chat'\u001b[0m\u001b[0;34m)\u001b[0m\u001b[0;34m,\u001b[0m \u001b[0mconvs\u001b[0m \u001b[0;34m)\u001b[0m\u001b[0;34m)\u001b[0m\u001b[0;34m\u001b[0m\u001b[0;34m\u001b[0m\u001b[0m\n\u001b[0m\u001b[1;32m      2\u001b[0m \u001b[0mdialogs\u001b[0m\u001b[0;34m.\u001b[0m\u001b[0msort\u001b[0m\u001b[0;34m(\u001b[0m\u001b[0mkey\u001b[0m\u001b[0;34m=\u001b[0m\u001b[0;32mlambda\u001b[0m \u001b[0mx\u001b[0m\u001b[0;34m:\u001b[0m \u001b[0;34m-\u001b[0m\u001b[0mx\u001b[0m\u001b[0;34m.\u001b[0m\u001b[0mget\u001b[0m\u001b[0;34m(\u001b[0m\u001b[0;34m'len'\u001b[0m\u001b[0;34m)\u001b[0m\u001b[0;34m)\u001b[0m\u001b[0;34m\u001b[0m\u001b[0;34m\u001b[0m\u001b[0m\n\u001b[1;32m      3\u001b[0m \u001b[0;34m\u001b[0m\u001b[0m\n\u001b[1;32m      4\u001b[0m \u001b[0;32mfor\u001b[0m \u001b[0md\u001b[0m \u001b[0;32min\u001b[0m \u001b[0mdialogs\u001b[0m\u001b[0;34m:\u001b[0m\u001b[0;34m\u001b[0m\u001b[0;34m\u001b[0m\u001b[0m\n\u001b[1;32m      5\u001b[0m     \u001b[0;32mtry\u001b[0m\u001b[0;34m:\u001b[0m\u001b[0;34m\u001b[0m\u001b[0;34m\u001b[0m\u001b[0m\n",
      "\u001b[0;31mNameError\u001b[0m: name 'convs' is not defined"
     ]
    }
   ],
   "source": [
    "dialogs = list(filter(lambda x:  x.get('chat'), convs ))\n",
    "dialogs.sort(key=lambda x: -x.get('len'))\n",
    "\n",
    "for d in dialogs:\n",
    "    try:\n",
    "        g = list(filter(lambda x: x['id'] == d['id'], d['profiles']))[0]\n",
    "    except IndexError as e:\n",
    "        g = {'first_name': 'me','last_name':'me'}\n",
    "    print(d['len'], d['in'], g['first_name'], g['last_name'])"
   ]
  },
  {
   "cell_type": "code",
   "execution_count": 5,
   "metadata": {},
   "outputs": [],
   "source": [
    "from urllib.request import urlretrieve\n"
   ]
  },
  {
   "cell_type": "code",
   "execution_count": 8,
   "metadata": {},
   "outputs": [],
   "source": [
    "a, b = urlretrieve('https://pp.userapi.com/c849124/v849124216/374d7/pc3RDNrrfcw.jpg', 't.mp3')"
   ]
  },
  {
   "cell_type": "code",
   "execution_count": 18,
   "metadata": {},
   "outputs": [],
   "source": [
    "b.get_param('Content-Length')"
   ]
  },
  {
   "cell_type": "code",
   "execution_count": null,
   "metadata": {},
   "outputs": [],
   "source": []
  }
 ],
 "metadata": {
  "kernelspec": {
   "display_name": "Python 3",
   "language": "python",
   "name": "python3"
  },
  "language_info": {
   "codemirror_mode": {
    "name": "ipython",
    "version": 3
   },
   "file_extension": ".py",
   "mimetype": "text/x-python",
   "name": "python",
   "nbconvert_exporter": "python",
   "pygments_lexer": "ipython3",
   "version": "3.7.1"
  }
 },
 "nbformat": 4,
 "nbformat_minor": 2
}
