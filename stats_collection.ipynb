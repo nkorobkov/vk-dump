{
 "cells": [
  {
   "cell_type": "code",
   "execution_count": 1,
   "metadata": {},
   "outputs": [],
   "source": [
    "import glob\n",
    "import json\n",
    "import os\n",
    "from urllib.request import urlretrieve\n",
    "from multiprocessing import Pool\n",
    "from collections import defaultdict, namedtuple\n",
    "from pprint import pprint\n",
    "import tqdm\n",
    "from collections import Counter\n",
    "import string\n",
    "from matplotlib import pyplot as plt\n",
    "import numpy as np\n",
    "#import pandas as pd\n",
    "%matplotlib inline"
   ]
  },
  {
   "cell_type": "code",
   "execution_count": 3,
   "metadata": {},
   "outputs": [
    {
     "data": {
      "application/vnd.jupyter.widget-view+json": {
       "model_id": "d38bc803e92a486485994729eabc920c",
       "version_major": 2,
       "version_minor": 0
      },
      "text/plain": [
       "HBox(children=(IntProgress(value=0, max=810), HTML(value='')))"
      ]
     },
     "metadata": {},
     "output_type": "display_data"
    },
    {
     "name": "stdout",
     "output_type": "stream",
     "text": [
      "\n"
     ]
    }
   ],
   "source": [
    "my_messages = []\n",
    "\n",
    "files_list=glob.glob(os.path.join('dumps/nikkorobk', '*/*.json'))\n",
    "for file in tqdm.tqdm_notebook(files_list):\n",
    "    data = json.load(open(file))\n",
    "    \n",
    "    for m in data['items']:\n",
    "        if m['out']:\n",
    "            my_messages.append(m)"
   ]
  },
  {
   "cell_type": "code",
   "execution_count": null,
   "metadata": {},
   "outputs": [],
   "source": [
    "qcount = 0\n",
    "for m in my_messages:\n",
    "    m['lemmatize'] = list(filter(lambda x: x, map(lambda x: x.strip(string.punctuation), m['text'].lower().split())))\n",
    "    m['len'] = len(m['lemmatize'])\n",
    "    if m['text']:\n",
    "        m['is_q'] = m['text'].count('?')>0\n"
   ]
  },
  {
   "cell_type": "code",
   "execution_count": 4,
   "metadata": {},
   "outputs": [
    {
     "data": {
      "text/plain": [
       "16419.441265"
      ]
     },
     "execution_count": 4,
     "metadata": {},
     "output_type": "execute_result"
    }
   ],
   "source": [
    "all_used_words = []\n",
    "all_lens = []\n",
    "qcount = 0\n",
    "for m in my_messages:\n",
    "    all_used_words.extend(m['lemmatize'])\n",
    "    all_lens.append(m.get('len'))\n",
    "    if m.get('is_q'):\n",
    "        qcount +=1 "
   ]
  },
  {
   "cell_type": "code",
   "execution_count": null,
   "metadata": {},
   "outputs": [],
   "source": [
    "c = Counter(all_used_words)\n",
    "cl = Counter(all_lens)"
   ]
  },
  {
   "cell_type": "code",
   "execution_count": null,
   "metadata": {},
   "outputs": [],
   "source": [
    "print(len(my_messages), 'total messages')\n",
    "print(len(all_used_words), 'total words:')\n",
    "print(qcount, 'questions')\n",
    "print('unique words:' , len(set(all_used_words)))\n",
    "print('twice used words', len(set(filter(lambda x: c.get(x)>1, all_used_words))))\n",
    "print('3-times used words', len(set(filter(lambda x: c.get(x)>2, all_used_words))))\n",
    "print('4-times used words', len(set(filter(lambda x: c.get(x)>3, all_used_words))))\n",
    "print('5-times used words', len(set(filter(lambda x: c.get(x)>4, all_used_words))))"
   ]
  },
  {
   "cell_type": "code",
   "execution_count": null,
   "metadata": {},
   "outputs": [],
   "source": [
    "mc  = np.array(c.most_common(100))\n",
    "plt.plot(np.arange(len(mc[:,0])),list(map(int,mc[:,1])))\n",
    "plt.show()"
   ]
  },
  {
   "cell_type": "code",
   "execution_count": null,
   "metadata": {},
   "outputs": [],
   "source": [
    "convs = []\n",
    "\n",
    "files_list=glob.glob(os.path.join(DUMP_DIR, '*/*.json'))\n",
    "for file in tqdm.tqdm_notebook(files_list):\n",
    "    data = json.load(open(file))\n",
    "    d = {}\n",
    "    d['chat'] = 0 < data.get('conversations')[0].get('peer').get('id') < 2000000000\n",
    "    d['len'] = data['count']\n",
    "    d['profiles'] = list(filter(lambda x: x.get('screen_name') != 'nikkorobk', data['profiles']))\n",
    "    d['id'] = int(file.split('/')[-2])\n",
    "    convs.append(d)"
   ]
  },
  {
   "cell_type": "code",
   "execution_count": null,
   "metadata": {},
   "outputs": [],
   "source": [
    "conv_lens = {'chat':[], 'dialog':[]}\n",
    "\n",
    "for c in convs:\n",
    "    if c.get('chat'):\n",
    "        conv_lens['chat'].append(c.get('len'))\n",
    "    else:\n",
    "        conv_lens['dialog'].append(c.get('len'))\n",
    "        \n",
    "\n",
    "    "
   ]
  },
  {
   "cell_type": "code",
   "execution_count": null,
   "metadata": {},
   "outputs": [],
   "source": [
    "dialogs = list(filter(lambda x:  x.get('chat'), convs ))\n",
    "dialogs.sort(key=lambda x: -x.get('len'))\n",
    "\n",
    "for d in dialogs:\n",
    "    g = list(filter(lambda x: x['id'] == d['id'], d['profiles']))[0]\n",
    "    print(d['len'], g['first_name'], g['last_name'], len(d['profiles']))"
   ]
  },
  {
   "cell_type": "code",
   "execution_count": 5,
   "metadata": {},
   "outputs": [],
   "source": [
    "from urllib.request import urlretrieve\n"
   ]
  },
  {
   "cell_type": "code",
   "execution_count": 8,
   "metadata": {},
   "outputs": [],
   "source": [
    "a, b = urlretrieve('https://pp.userapi.com/c849124/v849124216/374d7/pc3RDNrrfcw.jpg', 't.mp3')"
   ]
  },
  {
   "cell_type": "code",
   "execution_count": 18,
   "metadata": {},
   "outputs": [],
   "source": [
    "b.get_param('Content-Length')"
   ]
  },
  {
   "cell_type": "code",
   "execution_count": null,
   "metadata": {},
   "outputs": [],
   "source": []
  }
 ],
 "metadata": {
  "kernelspec": {
   "display_name": "Python 3",
   "language": "python",
   "name": "python3"
  },
  "language_info": {
   "codemirror_mode": {
    "name": "ipython",
    "version": 3
   },
   "file_extension": ".py",
   "mimetype": "text/x-python",
   "name": "python",
   "nbconvert_exporter": "python",
   "pygments_lexer": "ipython3",
   "version": "3.7.1"
  }
 },
 "nbformat": 4,
 "nbformat_minor": 2
}
